{
 "cells": [
  {
   "cell_type": "code",
   "execution_count": 1,
   "metadata": {},
   "outputs": [
    {
     "name": "stdout",
     "output_type": "stream",
     "text": [
      "Requirement already satisfied: pyamtrack in /home/gitpod/.pyenv/versions/3.8.13/lib/python3.8/site-packages (from -r requirements.txt (line 1)) (0.12.0)\n",
      "Requirement already satisfied: pandas in /home/gitpod/.pyenv/versions/3.8.13/lib/python3.8/site-packages (from -r requirements.txt (line 2)) (1.4.2)\n",
      "Requirement already satisfied: numpy in /home/gitpod/.pyenv/versions/3.8.13/lib/python3.8/site-packages (from -r requirements.txt (line 3)) (1.22.4)\n",
      "Requirement already satisfied: tqdm in /home/gitpod/.pyenv/versions/3.8.13/lib/python3.8/site-packages (from -r requirements.txt (line 4)) (4.64.0)\n",
      "Requirement already satisfied: jupyter in /home/gitpod/.pyenv/versions/3.8.13/lib/python3.8/site-packages (from -r requirements.txt (line 5)) (1.0.0)\n",
      "Requirement already satisfied: seaborn in /home/gitpod/.pyenv/versions/3.8.13/lib/python3.8/site-packages (from -r requirements.txt (line 6)) (0.11.2)\n",
      "Requirement already satisfied: cffi>=1.13.0 in /home/gitpod/.pyenv/versions/3.8.13/lib/python3.8/site-packages (from pyamtrack->-r requirements.txt (line 1)) (1.15.0)\n",
      "Requirement already satisfied: pytz>=2020.1 in /home/gitpod/.pyenv/versions/3.8.13/lib/python3.8/site-packages (from pandas->-r requirements.txt (line 2)) (2022.1)\n",
      "Requirement already satisfied: python-dateutil>=2.8.1 in /home/gitpod/.pyenv/versions/3.8.13/lib/python3.8/site-packages (from pandas->-r requirements.txt (line 2)) (2.8.2)\n",
      "Requirement already satisfied: jupyter-console in /home/gitpod/.pyenv/versions/3.8.13/lib/python3.8/site-packages (from jupyter->-r requirements.txt (line 5)) (6.4.3)\n",
      "Requirement already satisfied: qtconsole in /home/gitpod/.pyenv/versions/3.8.13/lib/python3.8/site-packages (from jupyter->-r requirements.txt (line 5)) (5.3.1)\n",
      "Requirement already satisfied: ipywidgets in /home/gitpod/.pyenv/versions/3.8.13/lib/python3.8/site-packages (from jupyter->-r requirements.txt (line 5)) (7.7.0)\n",
      "Requirement already satisfied: notebook in /home/gitpod/.pyenv/versions/3.8.13/lib/python3.8/site-packages (from jupyter->-r requirements.txt (line 5)) (6.4.11)\n",
      "Requirement already satisfied: ipykernel in /home/gitpod/.pyenv/versions/3.8.13/lib/python3.8/site-packages (from jupyter->-r requirements.txt (line 5)) (6.13.0)\n",
      "Requirement already satisfied: nbconvert in /home/gitpod/.pyenv/versions/3.8.13/lib/python3.8/site-packages (from jupyter->-r requirements.txt (line 5)) (6.5.0)\n",
      "Requirement already satisfied: scipy>=1.0 in /home/gitpod/.pyenv/versions/3.8.13/lib/python3.8/site-packages (from seaborn->-r requirements.txt (line 6)) (1.8.1)\n",
      "Requirement already satisfied: matplotlib>=2.2 in /home/gitpod/.pyenv/versions/3.8.13/lib/python3.8/site-packages (from seaborn->-r requirements.txt (line 6)) (3.5.2)\n",
      "Requirement already satisfied: pycparser in /home/gitpod/.pyenv/versions/3.8.13/lib/python3.8/site-packages (from cffi>=1.13.0->pyamtrack->-r requirements.txt (line 1)) (2.21)\n",
      "Requirement already satisfied: packaging>=20.0 in /home/gitpod/.pyenv/versions/3.8.13/lib/python3.8/site-packages (from matplotlib>=2.2->seaborn->-r requirements.txt (line 6)) (21.3)\n",
      "Requirement already satisfied: fonttools>=4.22.0 in /home/gitpod/.pyenv/versions/3.8.13/lib/python3.8/site-packages (from matplotlib>=2.2->seaborn->-r requirements.txt (line 6)) (4.33.3)\n",
      "Requirement already satisfied: kiwisolver>=1.0.1 in /home/gitpod/.pyenv/versions/3.8.13/lib/python3.8/site-packages (from matplotlib>=2.2->seaborn->-r requirements.txt (line 6)) (1.4.2)\n",
      "Requirement already satisfied: pyparsing>=2.2.1 in /home/gitpod/.pyenv/versions/3.8.13/lib/python3.8/site-packages (from matplotlib>=2.2->seaborn->-r requirements.txt (line 6)) (3.0.9)\n",
      "Requirement already satisfied: pillow>=6.2.0 in /home/gitpod/.pyenv/versions/3.8.13/lib/python3.8/site-packages (from matplotlib>=2.2->seaborn->-r requirements.txt (line 6)) (9.1.1)\n",
      "Requirement already satisfied: cycler>=0.10 in /home/gitpod/.pyenv/versions/3.8.13/lib/python3.8/site-packages (from matplotlib>=2.2->seaborn->-r requirements.txt (line 6)) (0.11.0)\n",
      "Requirement already satisfied: six>=1.5 in /home/gitpod/.pyenv/versions/3.8.13/lib/python3.8/site-packages (from python-dateutil>=2.8.1->pandas->-r requirements.txt (line 2)) (1.16.0)\n",
      "Requirement already satisfied: psutil in /home/gitpod/.pyenv/versions/3.8.13/lib/python3.8/site-packages (from ipykernel->jupyter->-r requirements.txt (line 5)) (5.9.0)\n",
      "Requirement already satisfied: jupyter-client>=6.1.12 in /home/gitpod/.pyenv/versions/3.8.13/lib/python3.8/site-packages (from ipykernel->jupyter->-r requirements.txt (line 5)) (7.3.1)\n",
      "Requirement already satisfied: ipython>=7.23.1 in /home/gitpod/.pyenv/versions/3.8.13/lib/python3.8/site-packages (from ipykernel->jupyter->-r requirements.txt (line 5)) (8.3.0)\n",
      "Requirement already satisfied: tornado>=6.1 in /home/gitpod/.pyenv/versions/3.8.13/lib/python3.8/site-packages (from ipykernel->jupyter->-r requirements.txt (line 5)) (6.1)\n",
      "Requirement already satisfied: matplotlib-inline>=0.1 in /home/gitpod/.pyenv/versions/3.8.13/lib/python3.8/site-packages (from ipykernel->jupyter->-r requirements.txt (line 5)) (0.1.3)\n",
      "Requirement already satisfied: traitlets>=5.1.0 in /home/gitpod/.pyenv/versions/3.8.13/lib/python3.8/site-packages (from ipykernel->jupyter->-r requirements.txt (line 5)) (5.2.1.post0)\n",
      "Requirement already satisfied: nest-asyncio in /home/gitpod/.pyenv/versions/3.8.13/lib/python3.8/site-packages (from ipykernel->jupyter->-r requirements.txt (line 5)) (1.5.5)\n",
      "Requirement already satisfied: debugpy>=1.0 in /home/gitpod/.pyenv/versions/3.8.13/lib/python3.8/site-packages (from ipykernel->jupyter->-r requirements.txt (line 5)) (1.6.0)\n",
      "Requirement already satisfied: nbformat>=4.2.0 in /home/gitpod/.pyenv/versions/3.8.13/lib/python3.8/site-packages (from ipywidgets->jupyter->-r requirements.txt (line 5)) (5.4.0)\n",
      "Requirement already satisfied: widgetsnbextension~=3.6.0 in /home/gitpod/.pyenv/versions/3.8.13/lib/python3.8/site-packages (from ipywidgets->jupyter->-r requirements.txt (line 5)) (3.6.0)\n",
      "Requirement already satisfied: ipython-genutils~=0.2.0 in /home/gitpod/.pyenv/versions/3.8.13/lib/python3.8/site-packages (from ipywidgets->jupyter->-r requirements.txt (line 5)) (0.2.0)\n",
      "Requirement already satisfied: jupyterlab-widgets>=1.0.0 in /home/gitpod/.pyenv/versions/3.8.13/lib/python3.8/site-packages (from ipywidgets->jupyter->-r requirements.txt (line 5)) (1.1.0)\n",
      "Requirement already satisfied: prompt-toolkit!=3.0.0,!=3.0.1,<3.1.0,>=2.0.0 in /home/gitpod/.pyenv/versions/3.8.13/lib/python3.8/site-packages (from jupyter-console->jupyter->-r requirements.txt (line 5)) (3.0.29)\n",
      "Requirement already satisfied: pygments in /home/gitpod/.pyenv/versions/3.8.13/lib/python3.8/site-packages (from jupyter-console->jupyter->-r requirements.txt (line 5)) (2.12.0)\n",
      "Requirement already satisfied: jinja2>=3.0 in /home/gitpod/.pyenv/versions/3.8.13/lib/python3.8/site-packages (from nbconvert->jupyter->-r requirements.txt (line 5)) (3.1.2)\n",
      "Requirement already satisfied: MarkupSafe>=2.0 in /home/gitpod/.pyenv/versions/3.8.13/lib/python3.8/site-packages (from nbconvert->jupyter->-r requirements.txt (line 5)) (2.1.1)\n",
      "Requirement already satisfied: defusedxml in /home/gitpod/.pyenv/versions/3.8.13/lib/python3.8/site-packages (from nbconvert->jupyter->-r requirements.txt (line 5)) (0.7.1)\n",
      "Requirement already satisfied: jupyterlab-pygments in /home/gitpod/.pyenv/versions/3.8.13/lib/python3.8/site-packages (from nbconvert->jupyter->-r requirements.txt (line 5)) (0.2.2)\n",
      "Requirement already satisfied: entrypoints>=0.2.2 in /home/gitpod/.pyenv/versions/3.8.13/lib/python3.8/site-packages (from nbconvert->jupyter->-r requirements.txt (line 5)) (0.4)\n",
      "Requirement already satisfied: mistune<2,>=0.8.1 in /home/gitpod/.pyenv/versions/3.8.13/lib/python3.8/site-packages (from nbconvert->jupyter->-r requirements.txt (line 5)) (0.8.4)\n",
      "Requirement already satisfied: jupyter-core>=4.7 in /home/gitpod/.pyenv/versions/3.8.13/lib/python3.8/site-packages (from nbconvert->jupyter->-r requirements.txt (line 5)) (4.10.0)\n",
      "Requirement already satisfied: pandocfilters>=1.4.1 in /home/gitpod/.pyenv/versions/3.8.13/lib/python3.8/site-packages (from nbconvert->jupyter->-r requirements.txt (line 5)) (1.5.0)\n",
      "Requirement already satisfied: tinycss2 in /home/gitpod/.pyenv/versions/3.8.13/lib/python3.8/site-packages (from nbconvert->jupyter->-r requirements.txt (line 5)) (1.1.1)\n",
      "Requirement already satisfied: bleach in /home/gitpod/.pyenv/versions/3.8.13/lib/python3.8/site-packages (from nbconvert->jupyter->-r requirements.txt (line 5)) (5.0.0)\n",
      "Requirement already satisfied: beautifulsoup4 in /home/gitpod/.pyenv/versions/3.8.13/lib/python3.8/site-packages (from nbconvert->jupyter->-r requirements.txt (line 5)) (4.11.1)\n",
      "Requirement already satisfied: nbclient>=0.5.0 in /home/gitpod/.pyenv/versions/3.8.13/lib/python3.8/site-packages (from nbconvert->jupyter->-r requirements.txt (line 5)) (0.6.3)\n",
      "Requirement already satisfied: argon2-cffi in /home/gitpod/.pyenv/versions/3.8.13/lib/python3.8/site-packages (from notebook->jupyter->-r requirements.txt (line 5)) (21.3.0)\n",
      "Requirement already satisfied: pyzmq>=17 in /home/gitpod/.pyenv/versions/3.8.13/lib/python3.8/site-packages (from notebook->jupyter->-r requirements.txt (line 5)) (23.0.0)\n",
      "Requirement already satisfied: Send2Trash>=1.8.0 in /home/gitpod/.pyenv/versions/3.8.13/lib/python3.8/site-packages (from notebook->jupyter->-r requirements.txt (line 5)) (1.8.0)\n",
      "Requirement already satisfied: prometheus-client in /home/gitpod/.pyenv/versions/3.8.13/lib/python3.8/site-packages (from notebook->jupyter->-r requirements.txt (line 5)) (0.14.1)\n",
      "Requirement already satisfied: terminado>=0.8.3 in /home/gitpod/.pyenv/versions/3.8.13/lib/python3.8/site-packages (from notebook->jupyter->-r requirements.txt (line 5)) (0.15.0)\n",
      "Requirement already satisfied: qtpy>=2.0.1 in /home/gitpod/.pyenv/versions/3.8.13/lib/python3.8/site-packages (from qtconsole->jupyter->-r requirements.txt (line 5)) (2.1.0)\n",
      "Requirement already satisfied: stack-data in /home/gitpod/.pyenv/versions/3.8.13/lib/python3.8/site-packages (from ipython>=7.23.1->ipykernel->jupyter->-r requirements.txt (line 5)) (0.2.0)\n",
      "Requirement already satisfied: setuptools>=18.5 in /home/gitpod/.pyenv/versions/3.8.13/lib/python3.8/site-packages (from ipython>=7.23.1->ipykernel->jupyter->-r requirements.txt (line 5)) (62.3.2)\n",
      "Requirement already satisfied: pickleshare in /home/gitpod/.pyenv/versions/3.8.13/lib/python3.8/site-packages (from ipython>=7.23.1->ipykernel->jupyter->-r requirements.txt (line 5)) (0.7.5)\n",
      "Requirement already satisfied: backcall in /home/gitpod/.pyenv/versions/3.8.13/lib/python3.8/site-packages (from ipython>=7.23.1->ipykernel->jupyter->-r requirements.txt (line 5)) (0.2.0)\n",
      "Requirement already satisfied: pexpect>4.3 in /home/gitpod/.pyenv/versions/3.8.13/lib/python3.8/site-packages (from ipython>=7.23.1->ipykernel->jupyter->-r requirements.txt (line 5)) (4.8.0)\n",
      "Requirement already satisfied: jedi>=0.16 in /home/gitpod/.pyenv/versions/3.8.13/lib/python3.8/site-packages (from ipython>=7.23.1->ipykernel->jupyter->-r requirements.txt (line 5)) (0.18.1)\n",
      "Requirement already satisfied: decorator in /home/gitpod/.pyenv/versions/3.8.13/lib/python3.8/site-packages (from ipython>=7.23.1->ipykernel->jupyter->-r requirements.txt (line 5)) (5.1.1)\n",
      "Requirement already satisfied: jsonschema>=2.6 in /home/gitpod/.pyenv/versions/3.8.13/lib/python3.8/site-packages (from nbformat>=4.2.0->ipywidgets->jupyter->-r requirements.txt (line 5)) (4.5.1)\n",
      "Requirement already satisfied: fastjsonschema in /home/gitpod/.pyenv/versions/3.8.13/lib/python3.8/site-packages (from nbformat>=4.2.0->ipywidgets->jupyter->-r requirements.txt (line 5)) (2.15.3)\n",
      "Requirement already satisfied: wcwidth in /home/gitpod/.pyenv/versions/3.8.13/lib/python3.8/site-packages (from prompt-toolkit!=3.0.0,!=3.0.1,<3.1.0,>=2.0.0->jupyter-console->jupyter->-r requirements.txt (line 5)) (0.2.5)\n",
      "Requirement already satisfied: ptyprocess in /home/gitpod/.pyenv/versions/3.8.13/lib/python3.8/site-packages (from terminado>=0.8.3->notebook->jupyter->-r requirements.txt (line 5)) (0.7.0)\n",
      "Requirement already satisfied: argon2-cffi-bindings in /home/gitpod/.pyenv/versions/3.8.13/lib/python3.8/site-packages (from argon2-cffi->notebook->jupyter->-r requirements.txt (line 5)) (21.2.0)\n",
      "Requirement already satisfied: soupsieve>1.2 in /home/gitpod/.pyenv/versions/3.8.13/lib/python3.8/site-packages (from beautifulsoup4->nbconvert->jupyter->-r requirements.txt (line 5)) (2.3.2.post1)\n",
      "Requirement already satisfied: webencodings in /home/gitpod/.pyenv/versions/3.8.13/lib/python3.8/site-packages (from bleach->nbconvert->jupyter->-r requirements.txt (line 5)) (0.5.1)\n",
      "Requirement already satisfied: parso<0.9.0,>=0.8.0 in /home/gitpod/.pyenv/versions/3.8.13/lib/python3.8/site-packages (from jedi>=0.16->ipython>=7.23.1->ipykernel->jupyter->-r requirements.txt (line 5)) (0.8.3)\n",
      "Requirement already satisfied: importlib-resources>=1.4.0 in /home/gitpod/.pyenv/versions/3.8.13/lib/python3.8/site-packages (from jsonschema>=2.6->nbformat>=4.2.0->ipywidgets->jupyter->-r requirements.txt (line 5)) (5.7.1)\n",
      "Requirement already satisfied: attrs>=17.4.0 in /home/gitpod/.pyenv/versions/3.8.13/lib/python3.8/site-packages (from jsonschema>=2.6->nbformat>=4.2.0->ipywidgets->jupyter->-r requirements.txt (line 5)) (21.4.0)\n",
      "Requirement already satisfied: pyrsistent!=0.17.0,!=0.17.1,!=0.17.2,>=0.14.0 in /home/gitpod/.pyenv/versions/3.8.13/lib/python3.8/site-packages (from jsonschema>=2.6->nbformat>=4.2.0->ipywidgets->jupyter->-r requirements.txt (line 5)) (0.18.1)\n",
      "Requirement already satisfied: asttokens in /home/gitpod/.pyenv/versions/3.8.13/lib/python3.8/site-packages (from stack-data->ipython>=7.23.1->ipykernel->jupyter->-r requirements.txt (line 5)) (2.0.5)\n",
      "Requirement already satisfied: executing in /home/gitpod/.pyenv/versions/3.8.13/lib/python3.8/site-packages (from stack-data->ipython>=7.23.1->ipykernel->jupyter->-r requirements.txt (line 5)) (0.8.3)\n",
      "Requirement already satisfied: pure-eval in /home/gitpod/.pyenv/versions/3.8.13/lib/python3.8/site-packages (from stack-data->ipython>=7.23.1->ipykernel->jupyter->-r requirements.txt (line 5)) (0.2.2)\n",
      "Requirement already satisfied: zipp>=3.1.0 in /home/gitpod/.pyenv/versions/3.8.13/lib/python3.8/site-packages (from importlib-resources>=1.4.0->jsonschema>=2.6->nbformat>=4.2.0->ipywidgets->jupyter->-r requirements.txt (line 5)) (3.8.0)\n",
      "\u001b[33mWARNING: There was an error checking the latest version of pip.\u001b[0m\u001b[33m\n",
      "\u001b[0m"
     ]
    }
   ],
   "source": [
    "!pip install -r requirements.txt"
   ]
  },
  {
   "cell_type": "code",
   "execution_count": 2,
   "metadata": {},
   "outputs": [],
   "source": [
    "import itertools\n",
    "import numpy as np\n",
    "import pandas as pd\n",
    "import seaborn as sns\n",
    "sns.set_theme(style=\"darkgrid\")"
   ]
  },
  {
   "cell_type": "code",
   "execution_count": 3,
   "metadata": {},
   "outputs": [],
   "source": [
    "# inspired by https://stackoverflow.com/questions/18603270/progress-indicator-during-pandas-operations\n",
    "# nicely prints progress of lengthy pandas calculation in jupyter notebook\n",
    "from tqdm.auto import tqdm \n",
    "tqdm.pandas()"
   ]
  },
  {
   "cell_type": "code",
   "execution_count": 4,
   "metadata": {},
   "outputs": [],
   "source": [
    "from settings import SimulationSetup\n",
    "from helper import rdd_dose_Gy, rdd_dose_Gy_basic\n",
    "from printing import pretty_print"
   ]
  },
  {
   "cell_type": "code",
   "execution_count": 5,
   "metadata": {},
   "outputs": [],
   "source": [
    "# create an array of values to be used for horizontal axis of RDD vs radius plot\n",
    "# this is distance from ion track in meters\n",
    "\n",
    "points_per_decade = 10\n",
    "start_at_exponent = -11\n",
    "stop_at_exponent = -7\n",
    "\n",
    "no_of_decades = stop_at_exponent-start_at_exponent\n",
    "no_of_samples = no_of_decades * points_per_decade + 1\n",
    "\n",
    "r_m = np.logspace(start=start_at_exponent, stop=stop_at_exponent, num=no_of_samples)"
   ]
  },
  {
   "cell_type": "code",
   "execution_count": 6,
   "metadata": {},
   "outputs": [
    {
     "data": {
      "text/plain": [
       "SimulationSetup(beam=BeamSetup(particle_name='1H', start_E_MeV_u=150.0, stop_E_MeV_u=150.0, num_E_MeV_u=1, dose_gy=nan), material=DetectorPropertySetup(material_name='Water, Liquid', slab_thickness_um=nan), gamma_response_model=None, tst_model=TrackStructureModel(er_model_name='ER_Edmund', rdd_model_name='RDD_Geiss', a0_nm=(5,)), stopping_power_source_name='PSTAR', saturation_cross_section_factor=nan)"
      ]
     },
     "execution_count": 6,
     "metadata": {},
     "output_type": "execute_result"
    }
   ],
   "source": [
    "simulation_setup = SimulationSetup()\n",
    "\n",
    "# all necessary parameters\n",
    "a0_nm = 5\n",
    "E_MeV_u = 150.\n",
    "simulation_setup.beam.particle_name = \"1H\"\n",
    "simulation_setup.material.material_name = \"Water, Liquid\"\n",
    "simulation_setup.tst_model.rdd_model_name = \"RDD_Geiss\"\n",
    "\n",
    "# we will calculate RDD just for a single energy value\n",
    "simulation_setup.beam.start_E_MeV_u = E_MeV_u\n",
    "simulation_setup.beam.stop_E_MeV_u = simulation_setup.beam.start_E_MeV_u\n",
    "simulation_setup.beam.num_E_MeV_u = 1\n",
    "\n",
    "# some of the options in simulation setup are not needed for RDD calculation,\n",
    "# instead of leaving default values, we set those items to `nan` (not-a-number) or to `None`\n",
    "\n",
    "# just a single value of a0 parameter, note that final `,` is needed in python to define a single-element tuple\n",
    "simulation_setup.tst_model.a0_nm = (a0_nm,)\n",
    "\n",
    "# model of response to reference radiation (gamma) is not needed for RDD calculations\n",
    "simulation_setup.gamma_response_model = None  \n",
    "\n",
    "# there is no need to specify slab thickness for RDD calculation\n",
    "simulation_setup.beam.dose_gy = float('nan')\n",
    "\n",
    "# there is no need to specify slab thickness and saturation cross-section for RDD calculation\n",
    "simulation_setup.material.slab_thickness_um = float('nan')\n",
    "simulation_setup.saturation_cross_section_factor = float('nan')\n",
    "\n",
    "simulation_setup"
   ]
  },
  {
   "cell_type": "code",
   "execution_count": 7,
   "metadata": {},
   "outputs": [
    {
     "name": "stdout",
     "output_type": "stream",
     "text": [
      "SimulationSetup(\n",
      "    beam=BeamSetup(\n",
      "        particle_name='1H',\n",
      "        start_E_MeV_u=150.0,\n",
      "        stop_E_MeV_u=150.0,\n",
      "        num_E_MeV_u=1,\n",
      "        dose_gy=nan,\n",
      "    ),\n",
      "    material=DetectorPropertySetup(\n",
      "        material_name='Water, Liquid',\n",
      "        slab_thickness_um=nan,\n",
      "    ),\n",
      "    gamma_response_model=None,\n",
      "    tst_model=TrackStructureModel(\n",
      "        er_model_name='ER_Edmund',\n",
      "        rdd_model_name='RDD_Geiss',\n",
      "        a0_nm=(\n",
      "            5,\n",
      "        ),\n",
      "    ),\n",
      "    stopping_power_source_name='PSTAR',\n",
      "    saturation_cross_section_factor=nan,\n",
      ")\n"
     ]
    }
   ],
   "source": [
    "pretty_print(simulation_setup)"
   ]
  },
  {
   "cell_type": "code",
   "execution_count": 8,
   "metadata": {},
   "outputs": [],
   "source": [
    "d_Gy = rdd_dose_Gy(r_m=r_m, sim_setup=simulation_setup)"
   ]
  },
  {
   "cell_type": "code",
   "execution_count": 9,
   "metadata": {},
   "outputs": [
    {
     "data": {
      "image/png": "[encoded data removed]",
      "text/plain": [
       "<Figure size 360x360 with 1 Axes>"
      ]
     },
     "metadata": {
      "needs_background": "light"
     },
     "output_type": "display_data"
    }
   ],
   "source": [
    "g = sns.relplot(x=r_m, y=d_Gy)\n",
    "g.set(xscale='log');\n",
    "g.set(yscale='log');\n",
    "g.set(xlabel='distance [m]');\n",
    "g.set(ylabel='dose [Gy]');"
   ]
  },
  {
   "cell_type": "code",
   "execution_count": 10,
   "metadata": {},
   "outputs": [
    {
     "data": {
      "text/html": [
       "<div>\n",
       "<style scoped>\n",
       "    .dataframe tbody tr th:only-of-type {\n",
       "        vertical-align: middle;\n",
       "    }\n",
       "\n",
       "    .dataframe tbody tr th {\n",
       "        vertical-align: top;\n",
       "    }\n",
       "\n",
       "    .dataframe thead th {\n",
       "        text-align: right;\n",
       "    }\n",
       "</style>\n",
       "<table border=\"1\" class=\"dataframe\">\n",
       "  <thead>\n",
       "    <tr style=\"text-align: right;\">\n",
       "      <th></th>\n",
       "      <th>r_m</th>\n",
       "      <th>d_Gy</th>\n",
       "      <th>rdd_model_name</th>\n",
       "    </tr>\n",
       "  </thead>\n",
       "  <tbody>\n",
       "    <tr>\n",
       "      <th>0</th>\n",
       "      <td>1.000000e-11</td>\n",
       "      <td>0.0</td>\n",
       "      <td>RDD_Geiss</td>\n",
       "    </tr>\n",
       "    <tr>\n",
       "      <th>1</th>\n",
       "      <td>1.000000e-11</td>\n",
       "      <td>0.0</td>\n",
       "      <td>RDD_KatzPoint</td>\n",
       "    </tr>\n",
       "    <tr>\n",
       "      <th>2</th>\n",
       "      <td>1.000000e-11</td>\n",
       "      <td>0.0</td>\n",
       "      <td>RDD_KatzSite</td>\n",
       "    </tr>\n",
       "    <tr>\n",
       "      <th>3</th>\n",
       "      <td>1.000000e-11</td>\n",
       "      <td>0.0</td>\n",
       "      <td>RDD_CucinottaPoint</td>\n",
       "    </tr>\n",
       "    <tr>\n",
       "      <th>4</th>\n",
       "      <td>1.000000e-11</td>\n",
       "      <td>0.0</td>\n",
       "      <td>RDD_KatzExtTarget</td>\n",
       "    </tr>\n",
       "  </tbody>\n",
       "</table>\n",
       "</div>"
      ],
      "text/plain": [
       "            r_m  d_Gy      rdd_model_name\n",
       "0  1.000000e-11   0.0           RDD_Geiss\n",
       "1  1.000000e-11   0.0       RDD_KatzPoint\n",
       "2  1.000000e-11   0.0        RDD_KatzSite\n",
       "3  1.000000e-11   0.0  RDD_CucinottaPoint\n",
       "4  1.000000e-11   0.0   RDD_KatzExtTarget"
      ]
     },
     "execution_count": 10,
     "metadata": {},
     "output_type": "execute_result"
    }
   ],
   "source": [
    "# iterating through dictionary is equivalent to R expand.grid\n",
    "data_dict = {\n",
    "    'r_m': r_m,\n",
    "    'd_Gy': (0.,),\n",
    "    'rdd_model_name': ('RDD_Geiss', 'RDD_KatzPoint', 'RDD_KatzSite', 'RDD_CucinottaPoint', 'RDD_KatzExtTarget')\n",
    "}\n",
    "df = pd.DataFrame.from_records(data=itertools.product(*data_dict.values()), columns=data_dict.keys())\n",
    "df.head()"
   ]
  },
  {
   "cell_type": "code",
   "execution_count": 11,
   "metadata": {},
   "outputs": [],
   "source": [
    "for rdd_model_name, df_single_pass in df.groupby('rdd_model_name'):\n",
    "    df.loc[df.rdd_model_name == rdd_model_name, 'd_Gy'] = rdd_dose_Gy_basic(r_m=df_single_pass.r_m, rdd_model_name=rdd_model_name)"
   ]
  },
  {
   "cell_type": "code",
   "execution_count": 12,
   "metadata": {},
   "outputs": [
    {
     "data": {
      "text/html": [
       "<div>\n",
       "<style scoped>\n",
       "    .dataframe tbody tr th:only-of-type {\n",
       "        vertical-align: middle;\n",
       "    }\n",
       "\n",
       "    .dataframe tbody tr th {\n",
       "        vertical-align: top;\n",
       "    }\n",
       "\n",
       "    .dataframe thead th {\n",
       "        text-align: right;\n",
       "    }\n",
       "</style>\n",
       "<table border=\"1\" class=\"dataframe\">\n",
       "  <thead>\n",
       "    <tr style=\"text-align: right;\">\n",
       "      <th></th>\n",
       "      <th>r_m</th>\n",
       "      <th>d_Gy</th>\n",
       "      <th>rdd_model_name</th>\n",
       "    </tr>\n",
       "  </thead>\n",
       "  <tbody>\n",
       "    <tr>\n",
       "      <th>0</th>\n",
       "      <td>1.000000e-11</td>\n",
       "      <td>0.0</td>\n",
       "      <td>RDD_Geiss</td>\n",
       "    </tr>\n",
       "    <tr>\n",
       "      <th>1</th>\n",
       "      <td>1.000000e-11</td>\n",
       "      <td>0.0</td>\n",
       "      <td>RDD_KatzPoint</td>\n",
       "    </tr>\n",
       "    <tr>\n",
       "      <th>2</th>\n",
       "      <td>1.000000e-11</td>\n",
       "      <td>0.0</td>\n",
       "      <td>RDD_KatzSite</td>\n",
       "    </tr>\n",
       "    <tr>\n",
       "      <th>3</th>\n",
       "      <td>1.000000e-11</td>\n",
       "      <td>0.0</td>\n",
       "      <td>RDD_CucinottaPoint</td>\n",
       "    </tr>\n",
       "    <tr>\n",
       "      <th>4</th>\n",
       "      <td>1.000000e-11</td>\n",
       "      <td>0.0</td>\n",
       "      <td>RDD_KatzExtTarget</td>\n",
       "    </tr>\n",
       "  </tbody>\n",
       "</table>\n",
       "</div>"
      ],
      "text/plain": [
       "            r_m  d_Gy      rdd_model_name\n",
       "0  1.000000e-11   0.0           RDD_Geiss\n",
       "1  1.000000e-11   0.0       RDD_KatzPoint\n",
       "2  1.000000e-11   0.0        RDD_KatzSite\n",
       "3  1.000000e-11   0.0  RDD_CucinottaPoint\n",
       "4  1.000000e-11   0.0   RDD_KatzExtTarget"
      ]
     },
     "execution_count": 12,
     "metadata": {},
     "output_type": "execute_result"
    }
   ],
   "source": [
    "df.head()"
   ]
  },
  {
   "cell_type": "code",
   "execution_count": 13,
   "metadata": {},
   "outputs": [
    {
     "data": {
      "image/png": "[encoded data removed]",
      "text/plain": [
       "<Figure size 708.125x500 with 1 Axes>"
      ]
     },
     "metadata": {},
     "output_type": "display_data"
    }
   ],
   "source": [
    "g = sns.relplot(x='r_m', y='d_Gy', hue='rdd_model_name', data = df)\n",
    "g.set(xscale='log');\n",
    "g.set(yscale='log');\n",
    "g.set(xlabel='distance [m]');\n",
    "g.set(ylabel='dose [Gy]');"
   ]
  },
  {
   "cell_type": "code",
   "execution_count": null,
   "metadata": {},
   "outputs": [],
   "source": []
  }
 ],
 "metadata": {
  "kernelspec": {
   "display_name": "Python 3.8.13 64-bit ('3.8.13')",
   "language": "python",
   "name": "python3"
  },
  "language_info": {
   "codemirror_mode": {
    "name": "ipython",
    "version": 3
   },
   "file_extension": ".py",
   "mimetype": "text/x-python",
   "name": "python",
   "nbconvert_exporter": "python",
   "pygments_lexer": "ipython3",
   "version": "3.8.13"
  },
  "orig_nbformat": 4,
  "vscode": {
   "interpreter": {
    "hash": "110cc1dee26208153f2972f08a2ad52b6a56238dc66d48e87fb757ef2996db56"
   }
  }
 },
 "nbformat": 4,
 "nbformat_minor": 2
}
