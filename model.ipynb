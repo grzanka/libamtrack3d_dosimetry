{
 "cells": [
  {
   "cell_type": "code",
   "execution_count": 10,
   "metadata": {},
   "outputs": [],
   "source": [
    "from helper import create_df, SimulationSetup, fluence_cm2, eloss_MeV, run_igk"
   ]
  },
  {
   "cell_type": "code",
   "execution_count": 2,
   "metadata": {},
   "outputs": [],
   "source": [
    "simulation_setup = SimulationSetup()\n",
    "simulation_setup.particle_name = \"1H\""
   ]
  },
  {
   "cell_type": "code",
   "execution_count": 3,
   "metadata": {},
   "outputs": [
    {
     "data": {
      "text/plain": [
       "SimulationSetup(particle_name='1H', dose_gy=0.3, material_name='Aluminum Oxide', er_model_name='ER_Edmund', rdd_model_name='RDD_Geiss', gamma_response_model_name='GR_GeneralTarget', stopping_power_source_name='PSTAR', slab_thickness_um=100.0, saturation_cross_section_factor=1.4, r=44.0, smax=27.6, d01=2.9, c1=1.0, m1=1.0, d02=4.66, c2=2.0, m2=1.0)"
      ]
     },
     "execution_count": 3,
     "metadata": {},
     "output_type": "execute_result"
    }
   ],
   "source": [
    "simulation_setup"
   ]
  },
  {
   "cell_type": "code",
   "execution_count": 4,
   "metadata": {},
   "outputs": [],
   "source": [
    "df = create_df(simulation_setup)"
   ]
  },
  {
   "cell_type": "code",
   "execution_count": 5,
   "metadata": {},
   "outputs": [
    {
     "data": {
      "text/html": [
       "<div>\n",
       "<style scoped>\n",
       "    .dataframe tbody tr th:only-of-type {\n",
       "        vertical-align: middle;\n",
       "    }\n",
       "\n",
       "    .dataframe tbody tr th {\n",
       "        vertical-align: top;\n",
       "    }\n",
       "\n",
       "    .dataframe thead th {\n",
       "        text-align: right;\n",
       "    }\n",
       "</style>\n",
       "<table border=\"1\" class=\"dataframe\">\n",
       "  <thead>\n",
       "    <tr style=\"text-align: right;\">\n",
       "      <th></th>\n",
       "      <th>E_MeV_u</th>\n",
       "      <th>a0_m</th>\n",
       "    </tr>\n",
       "  </thead>\n",
       "  <tbody>\n",
       "    <tr>\n",
       "      <th>0</th>\n",
       "      <td>1.500000</td>\n",
       "      <td>9.500000e-08</td>\n",
       "    </tr>\n",
       "    <tr>\n",
       "      <th>1</th>\n",
       "      <td>1.500000</td>\n",
       "      <td>5.000000e-08</td>\n",
       "    </tr>\n",
       "    <tr>\n",
       "      <th>2</th>\n",
       "      <td>1.500000</td>\n",
       "      <td>1.500000e-07</td>\n",
       "    </tr>\n",
       "    <tr>\n",
       "      <th>3</th>\n",
       "      <td>1.646617</td>\n",
       "      <td>9.500000e-08</td>\n",
       "    </tr>\n",
       "    <tr>\n",
       "      <th>4</th>\n",
       "      <td>1.646617</td>\n",
       "      <td>5.000000e-08</td>\n",
       "    </tr>\n",
       "  </tbody>\n",
       "</table>\n",
       "</div>"
      ],
      "text/plain": [
       "    E_MeV_u          a0_m\n",
       "0  1.500000  9.500000e-08\n",
       "1  1.500000  5.000000e-08\n",
       "2  1.500000  1.500000e-07\n",
       "3  1.646617  9.500000e-08\n",
       "4  1.646617  5.000000e-08"
      ]
     },
     "execution_count": 5,
     "metadata": {},
     "output_type": "execute_result"
    }
   ],
   "source": [
    "df.head()"
   ]
  },
  {
   "cell_type": "code",
   "execution_count": 6,
   "metadata": {},
   "outputs": [
    {
     "data": {
      "text/plain": [
       "217483784.05215657"
      ]
     },
     "execution_count": 6,
     "metadata": {},
     "output_type": "execute_result"
    }
   ],
   "source": [
    "fluence_cm2(df.E_MeV_u.iloc[-1], simulation_setup)"
   ]
  },
  {
   "cell_type": "code",
   "execution_count": 7,
   "metadata": {},
   "outputs": [
    {
     "data": {
      "text/plain": [
       "0.3418019484712447"
      ]
     },
     "execution_count": 7,
     "metadata": {},
     "output_type": "execute_result"
    }
   ],
   "source": [
    "eloss_MeV(df.E_MeV_u.iloc[-1], simulation_setup)"
   ]
  },
  {
   "cell_type": "code",
   "execution_count": 11,
   "metadata": {},
   "outputs": [
    {
     "data": {
      "text/plain": [
       "([0.17811754325777093],\n",
       " [0.21804554409999483],\n",
       " [1.2241665818646525],\n",
       " [5.410806947448152e-10],\n",
       " [0.1359701577519348],\n",
       " [0.9923392175499244],\n",
       " [0.9995825084216176])"
      ]
     },
     "execution_count": 11,
     "metadata": {},
     "output_type": "execute_result"
    }
   ],
   "source": [
    "run_igk(df.E_MeV_u.iloc[5], df.a0_m.iloc[5], simulation_setup)"
   ]
  },
  {
   "cell_type": "code",
   "execution_count": 8,
   "metadata": {},
   "outputs": [
    {
     "name": "stdout",
     "output_type": "stream",
     "text": [
      "-3.5836217049762906\n",
      "Negative energy reached\n"
     ]
    }
   ],
   "source": [
    "current_E_MeV_u = df.E_MeV_u.iloc[5]\n",
    "hcp_list = 0\n",
    "for _ in range(10):\n",
    "    current_E_MeV_u -= eloss_MeV(current_E_MeV_u, simulation_setup)\n",
    "    print(current_E_MeV_u)\n",
    "    if current_E_MeV_u <= 0:\n",
    "        print(\"Negative energy reached\")\n",
    "        break\n",
    "    _, S_HCP, _, _, _, _, _ = run_igk()\n"
   ]
  },
  {
   "cell_type": "code",
   "execution_count": null,
   "metadata": {},
   "outputs": [],
   "source": []
  }
 ],
 "metadata": {
  "interpreter": {
   "hash": "5b36f22c9020e148f5870eac95e280f14af9cdb7c612e64a040e97878e9e7bbe"
  },
  "kernelspec": {
   "display_name": "Python 3.8.10 64-bit ('.env': venv)",
   "language": "python",
   "name": "python3"
  },
  "language_info": {
   "codemirror_mode": {
    "name": "ipython",
    "version": 3
   },
   "file_extension": ".py",
   "mimetype": "text/x-python",
   "name": "python",
   "nbconvert_exporter": "python",
   "pygments_lexer": "ipython3",
   "version": "3.8.10"
  },
  "orig_nbformat": 4
 },
 "nbformat": 4,
 "nbformat_minor": 2
}
