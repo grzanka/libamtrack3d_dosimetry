{
 "cells": [
  {
   "cell_type": "code",
   "execution_count": 18,
   "metadata": {},
   "outputs": [],
   "source": [
    "import itertools\n",
    "import numpy as np\n",
    "import pandas as pd\n",
    "import matplotlib.pylab as plt"
   ]
  },
  {
   "cell_type": "code",
   "execution_count": 19,
   "metadata": {},
   "outputs": [],
   "source": [
    "from settings import SimulationSetup\n",
    "from helper import rdd_dose_Gy, rdd_dose_Gy_basic\n",
    "from printing import pretty_print"
   ]
  },
  {
   "cell_type": "code",
   "execution_count": 20,
   "metadata": {},
   "outputs": [],
   "source": [
    "# create an array of values to be used for horizontal axis of RDD vs radius plot\n",
    "# this is distance from ion track in meters\n",
    "\n",
    "points_per_decade = 10\n",
    "start_at_exponent = -9\n",
    "stop_at_exponent = -4\n",
    "\n",
    "no_of_decades = stop_at_exponent-start_at_exponent\n",
    "no_of_samples = no_of_decades * points_per_decade + 1\n",
    "\n",
    "r_m = np.logspace(start=start_at_exponent, stop=stop_at_exponent, num=no_of_samples)"
   ]
  },
  {
   "cell_type": "code",
   "execution_count": 21,
   "metadata": {},
   "outputs": [
    {
     "data": {
      "text/plain": [
       "SimulationSetup(beam=BeamSetup(particle_name='12C', start_E_MeV_u=43.0, stop_E_MeV_u=43.0, num_E_MeV_u=1, dose_gy=nan), material=DetectorPropertySetup(material_name='Water, Liquid', slab_thickness_um=nan), gamma_response_model=None, tst_model=TrackStructureModel(er_model_name='ER_Scholz', rdd_model_name='RDD_Geiss', a0_nm=(10,)), stopping_power_source_name='PSTAR', saturation_cross_section_factor=nan)"
      ]
     },
     "execution_count": 21,
     "metadata": {},
     "output_type": "execute_result"
    }
   ],
   "source": [
    "simulation_setup = SimulationSetup()\n",
    "\n",
    "# all necessary parameters\n",
    "a0_nm = 10\n",
    "E_MeV_u = 43.\n",
    "simulation_setup.beam.particle_name = \"12C\"\n",
    "simulation_setup.material.material_name = \"Water, Liquid\"\n",
    "simulation_setup.tst_model.rdd_model_name = \"RDD_Geiss\"\n",
    "\n",
    "# we will calculate RDD just for a single energy value\n",
    "simulation_setup.beam.start_E_MeV_u = E_MeV_u\n",
    "simulation_setup.beam.stop_E_MeV_u = simulation_setup.beam.start_E_MeV_u\n",
    "simulation_setup.beam.num_E_MeV_u = 1\n",
    "\n",
    "# select Scholz model for track radius\n",
    "simulation_setup.tst_model.er_model_name = 'ER_Scholz'\n",
    "\n",
    "# some of the options in simulation setup are not needed for RDD calculation,\n",
    "# instead of leaving default values, we set those items to `nan` (not-a-number) or to `None`\n",
    "\n",
    "# just a single value of a0 parameter, note that final `,` is needed in python to define a single-element tuple\n",
    "simulation_setup.tst_model.a0_nm = (a0_nm,)\n",
    "\n",
    "# model of response to reference radiation (gamma) is not needed for RDD calculations\n",
    "simulation_setup.gamma_response_model = None  \n",
    "\n",
    "# there is no need to specify slab thickness for RDD calculation\n",
    "simulation_setup.beam.dose_gy = float('nan')\n",
    "\n",
    "# there is no need to specify slab thickness and saturation cross-section for RDD calculation\n",
    "simulation_setup.material.slab_thickness_um = float('nan')\n",
    "simulation_setup.saturation_cross_section_factor = float('nan')\n",
    "\n",
    "simulation_setup"
   ]
  },
  {
   "cell_type": "code",
   "execution_count": 22,
   "metadata": {},
   "outputs": [
    {
     "name": "stdout",
     "output_type": "stream",
     "text": [
      "SimulationSetup(\n",
      "    beam=BeamSetup(\n",
      "        particle_name='12C',\n",
      "        start_E_MeV_u=43.0,\n",
      "        stop_E_MeV_u=43.0,\n",
      "        num_E_MeV_u=1,\n",
      "        dose_gy=nan,\n",
      "    ),\n",
      "    material=DetectorPropertySetup(\n",
      "        material_name='Water, Liquid',\n",
      "        slab_thickness_um=nan,\n",
      "    ),\n",
      "    gamma_response_model=None,\n",
      "    tst_model=TrackStructureModel(\n",
      "        er_model_name='ER_Scholz',\n",
      "        rdd_model_name='RDD_Geiss',\n",
      "        a0_nm=(\n",
      "            10,\n",
      "        ),\n",
      "    ),\n",
      "    stopping_power_source_name='PSTAR',\n",
      "    saturation_cross_section_factor=nan,\n",
      ")\n"
     ]
    }
   ],
   "source": [
    "pretty_print(simulation_setup)"
   ]
  },
  {
   "cell_type": "code",
   "execution_count": 23,
   "metadata": {},
   "outputs": [],
   "source": [
    "d_Gy = rdd_dose_Gy(r_m=r_m, sim_setup=simulation_setup)"
   ]
  },
  {
   "cell_type": "code",
   "execution_count": 24,
   "metadata": {},
   "outputs": [
    {
     "data": {
      "text/plain": [
       "Text(0, 0.5, 'Local dose [Gy]')"
      ]
     },
     "execution_count": 24,
     "metadata": {},
     "output_type": "execute_result"
    },
    {
     "data": {
      "image/png": "[encoded data removed]",
      "text/plain": [
       "<Figure size 720x720 with 1 Axes>"
      ]
     },
     "metadata": {
      "needs_background": "light"
     },
     "output_type": "display_data"
    }
   ],
   "source": [
    "fig, ax = plt.subplots(figsize=(10,10))\n",
    "ax.plot(r_m, d_Gy, label='LEM-oriented model')\n",
    "ax.grid()\n",
    "ax.legend()\n",
    "ax.set_xscale('log')\n",
    "ax.set_yscale('log')\n",
    "ax.set_xlim(1e-9, 1e-4)\n",
    "ax.set_ylim(1e-5, 1e6)\n",
    "ax.set_xlabel(\"Track radius [m]\")\n",
    "ax.set_ylabel(\"Local dose [Gy]\")"
   ]
  },
  {
   "cell_type": "code",
   "execution_count": null,
   "metadata": {},
   "outputs": [],
   "source": []
  }
 ],
 "metadata": {
  "kernelspec": {
   "display_name": "Python 3.8.10 ('venv': venv)",
   "language": "python",
   "name": "python3"
  },
  "language_info": {
   "codemirror_mode": {
    "name": "ipython",
    "version": 3
   },
   "file_extension": ".py",
   "mimetype": "text/x-python",
   "name": "python",
   "nbconvert_exporter": "python",
   "pygments_lexer": "ipython3",
   "version": "3.8.10"
  },
  "orig_nbformat": 4,
  "vscode": {
   "interpreter": {
    "hash": "4c540804dc09e2820a1b27722508bf47bd67bc2071d97af40dac72463aa127fe"
   }
  }
 },
 "nbformat": 4,
 "nbformat_minor": 2
}
