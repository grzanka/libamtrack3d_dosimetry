{
 "cells": [
  {
   "cell_type": "code",
   "execution_count": 1,
   "metadata": {},
   "outputs": [],
   "source": [
    "import seaborn as sns\n",
    "sns.set_theme(style=\"darkgrid\")"
   ]
  },
  {
   "cell_type": "code",
   "execution_count": 2,
   "metadata": {},
   "outputs": [],
   "source": [
    "from settings import SimulationSetup\n",
    "from helper import create_df, fluence_cm2, eloss_MeV, run_igk, get_hpc, let_keV_um"
   ]
  },
  {
   "cell_type": "code",
   "execution_count": 3,
   "metadata": {},
   "outputs": [],
   "source": [
    "simulation_setup = SimulationSetup()\n",
    "simulation_setup.start_E_MeV_u = 30.\n",
    "simulation_setup.stop_E_MeV_u = 60.\n",
    "simulation_setup.num_E_MeV_u = 4"
   ]
  },
  {
   "cell_type": "code",
   "execution_count": 4,
   "metadata": {},
   "outputs": [
    {
     "data": {
      "text/plain": [
       "SimulationSetup(particle_name='1H', dose_gy=0.3, material_name='Aluminum Oxide', er_model_name='ER_Edmund', rdd_model_name='RDD_Geiss', gamma_response_model_name='GR_GeneralTarget', stopping_power_source_name='PSTAR', slab_thickness_um=100.0, saturation_cross_section_factor=1.4, r=44.0, smax=27.6, d01=2.9, c1=1.0, m1=1.0, d02=4.66, c2=2.0, m2=1.0, start_E_MeV_u=30.0, stop_E_MeV_u=60.0, num_E_MeV_u=4)"
      ]
     },
     "execution_count": 4,
     "metadata": {},
     "output_type": "execute_result"
    }
   ],
   "source": [
    "simulation_setup"
   ]
  },
  {
   "cell_type": "code",
   "execution_count": 5,
   "metadata": {},
   "outputs": [],
   "source": [
    "df = create_df(simulation_setup)"
   ]
  },
  {
   "cell_type": "code",
   "execution_count": 6,
   "metadata": {},
   "outputs": [
    {
     "data": {
      "text/html": [
       "<div>\n",
       "<style scoped>\n",
       "    .dataframe tbody tr th:only-of-type {\n",
       "        vertical-align: middle;\n",
       "    }\n",
       "\n",
       "    .dataframe tbody tr th {\n",
       "        vertical-align: top;\n",
       "    }\n",
       "\n",
       "    .dataframe thead th {\n",
       "        text-align: right;\n",
       "    }\n",
       "</style>\n",
       "<table border=\"1\" class=\"dataframe\">\n",
       "  <thead>\n",
       "    <tr style=\"text-align: right;\">\n",
       "      <th></th>\n",
       "      <th>E_MeV_u</th>\n",
       "      <th>a0_m</th>\n",
       "    </tr>\n",
       "  </thead>\n",
       "  <tbody>\n",
       "    <tr>\n",
       "      <th>0</th>\n",
       "      <td>30.0</td>\n",
       "      <td>9.500000e-08</td>\n",
       "    </tr>\n",
       "    <tr>\n",
       "      <th>1</th>\n",
       "      <td>30.0</td>\n",
       "      <td>5.000000e-08</td>\n",
       "    </tr>\n",
       "    <tr>\n",
       "      <th>2</th>\n",
       "      <td>30.0</td>\n",
       "      <td>1.500000e-07</td>\n",
       "    </tr>\n",
       "    <tr>\n",
       "      <th>3</th>\n",
       "      <td>40.0</td>\n",
       "      <td>9.500000e-08</td>\n",
       "    </tr>\n",
       "    <tr>\n",
       "      <th>4</th>\n",
       "      <td>40.0</td>\n",
       "      <td>5.000000e-08</td>\n",
       "    </tr>\n",
       "    <tr>\n",
       "      <th>5</th>\n",
       "      <td>40.0</td>\n",
       "      <td>1.500000e-07</td>\n",
       "    </tr>\n",
       "    <tr>\n",
       "      <th>6</th>\n",
       "      <td>50.0</td>\n",
       "      <td>9.500000e-08</td>\n",
       "    </tr>\n",
       "    <tr>\n",
       "      <th>7</th>\n",
       "      <td>50.0</td>\n",
       "      <td>5.000000e-08</td>\n",
       "    </tr>\n",
       "    <tr>\n",
       "      <th>8</th>\n",
       "      <td>50.0</td>\n",
       "      <td>1.500000e-07</td>\n",
       "    </tr>\n",
       "    <tr>\n",
       "      <th>9</th>\n",
       "      <td>60.0</td>\n",
       "      <td>9.500000e-08</td>\n",
       "    </tr>\n",
       "    <tr>\n",
       "      <th>10</th>\n",
       "      <td>60.0</td>\n",
       "      <td>5.000000e-08</td>\n",
       "    </tr>\n",
       "    <tr>\n",
       "      <th>11</th>\n",
       "      <td>60.0</td>\n",
       "      <td>1.500000e-07</td>\n",
       "    </tr>\n",
       "  </tbody>\n",
       "</table>\n",
       "</div>"
      ],
      "text/plain": [
       "    E_MeV_u          a0_m\n",
       "0      30.0  9.500000e-08\n",
       "1      30.0  5.000000e-08\n",
       "2      30.0  1.500000e-07\n",
       "3      40.0  9.500000e-08\n",
       "4      40.0  5.000000e-08\n",
       "5      40.0  1.500000e-07\n",
       "6      50.0  9.500000e-08\n",
       "7      50.0  5.000000e-08\n",
       "8      50.0  1.500000e-07\n",
       "9      60.0  9.500000e-08\n",
       "10     60.0  5.000000e-08\n",
       "11     60.0  1.500000e-07"
      ]
     },
     "execution_count": 6,
     "metadata": {},
     "output_type": "execute_result"
    }
   ],
   "source": [
    "df"
   ]
  },
  {
   "cell_type": "code",
   "execution_count": 7,
   "metadata": {},
   "outputs": [
    {
     "ename": "NameError",
     "evalue": "name 'libam' is not defined",
     "output_type": "error",
     "traceback": [
      "\u001b[0;31m---------------------------------------------------------------------------\u001b[0m",
      "\u001b[0;31mNameError\u001b[0m                                 Traceback (most recent call last)",
      "Input \u001b[0;32mIn [7]\u001b[0m, in \u001b[0;36m<module>\u001b[0;34m\u001b[0m\n\u001b[0;32m----> 1\u001b[0m \u001b[43mfluence_cm2\u001b[49m\u001b[43m(\u001b[49m\u001b[43mdf\u001b[49m\u001b[38;5;241;43m.\u001b[39;49m\u001b[43mE_MeV_u\u001b[49m\u001b[38;5;241;43m.\u001b[39;49m\u001b[43miloc\u001b[49m\u001b[43m[\u001b[49m\u001b[38;5;241;43m-\u001b[39;49m\u001b[38;5;241;43m1\u001b[39;49m\u001b[43m]\u001b[49m\u001b[43m,\u001b[49m\u001b[43m \u001b[49m\u001b[43msimulation_setup\u001b[49m\u001b[43m)\u001b[49m\n",
      "File \u001b[0;32m~/workspace/libamtrack3d_dosimetry/helper.py:13\u001b[0m, in \u001b[0;36mfluence_cm2\u001b[0;34m(E_MeV_u, sim_setup)\u001b[0m\n\u001b[1;32m     10\u001b[0m \u001b[38;5;28;01mdef\u001b[39;00m \u001b[38;5;21mfluence_cm2\u001b[39m(E_MeV_u: \u001b[38;5;28mfloat\u001b[39m, sim_setup: SimulationSetup) \u001b[38;5;241m-\u001b[39m\u001b[38;5;241m>\u001b[39m \u001b[38;5;28mfloat\u001b[39m:\n\u001b[1;32m     11\u001b[0m     result_fluence_cm2 \u001b[38;5;241m=\u001b[39m libam\u001b[38;5;241m.\u001b[39mAT_fluence_cm2_from_dose_Gy_single(\n\u001b[1;32m     12\u001b[0m         p_E_MeV_u\u001b[38;5;241m=\u001b[39mE_MeV_u,\n\u001b[0;32m---> 13\u001b[0m         p_particle_no\u001b[38;5;241m=\u001b[39m\u001b[43msim_setup\u001b[49m\u001b[38;5;241;43m.\u001b[39;49m\u001b[43mparticle_code\u001b[49m,\n\u001b[1;32m     14\u001b[0m         p_D_Gy\u001b[38;5;241m=\u001b[39msim_setup\u001b[38;5;241m.\u001b[39mdose_gy,\n\u001b[1;32m     15\u001b[0m         p_material_no\u001b[38;5;241m=\u001b[39msim_setup\u001b[38;5;241m.\u001b[39mmaterial_code,\n\u001b[1;32m     16\u001b[0m         p_stopping_power_source_no\u001b[38;5;241m=\u001b[39msim_setup\u001b[38;5;241m.\u001b[39mstopping_power_source_code)\n\u001b[1;32m     17\u001b[0m     \u001b[38;5;28;01mreturn\u001b[39;00m result_fluence_cm2\n",
      "File \u001b[0;32m~/workspace/libamtrack3d_dosimetry/settings.py:40\u001b[0m, in \u001b[0;36mSimulationSetup.particle_code\u001b[0;34m(self)\u001b[0m\n\u001b[1;32m     37\u001b[0m \u001b[38;5;129m@property\u001b[39m\n\u001b[1;32m     38\u001b[0m \u001b[38;5;129m@lru_cache\u001b[39m\n\u001b[1;32m     39\u001b[0m \u001b[38;5;28;01mdef\u001b[39;00m \u001b[38;5;21mparticle_code\u001b[39m(\u001b[38;5;28mself\u001b[39m) \u001b[38;5;241m-\u001b[39m\u001b[38;5;241m>\u001b[39m \u001b[38;5;28mint\u001b[39m:\n\u001b[0;32m---> 40\u001b[0m     \u001b[38;5;28;01mreturn\u001b[39;00m \u001b[43mlibam\u001b[49m\u001b[38;5;241m.\u001b[39mAT_particle_no_from_particle_name_single(\u001b[38;5;28mself\u001b[39m\u001b[38;5;241m.\u001b[39mparticle_name)\n",
      "\u001b[0;31mNameError\u001b[0m: name 'libam' is not defined"
     ]
    }
   ],
   "source": [
    "fluence_cm2(df.E_MeV_u.iloc[-1], simulation_setup)"
   ]
  },
  {
   "cell_type": "code",
   "execution_count": null,
   "metadata": {},
   "outputs": [
    {
     "data": {
      "text/plain": [
       "0.3418019484712447"
      ]
     },
     "execution_count": 11,
     "metadata": {},
     "output_type": "execute_result"
    }
   ],
   "source": [
    "eloss_MeV(df.E_MeV_u.iloc[-1], simulation_setup)"
   ]
  },
  {
   "cell_type": "code",
   "execution_count": null,
   "metadata": {},
   "outputs": [
    {
     "data": {
      "text/plain": [
       "([0.9969867952194085],\n",
       " [1.2204779172679376],\n",
       " [1.2241665818646525],\n",
       " [1.7374990554114948e-12],\n",
       " [0.29947327321278805],\n",
       " [0.9997244795045568],\n",
       " [0.9980214011519071])"
      ]
     },
     "execution_count": 12,
     "metadata": {},
     "output_type": "execute_result"
    }
   ],
   "source": [
    "run_igk(df.E_MeV_u.iloc[5], df.a0_m.iloc[5], simulation_setup)"
   ]
  },
  {
   "cell_type": "code",
   "execution_count": null,
   "metadata": {},
   "outputs": [
    {
     "data": {
      "text/plain": [
       "1.2219400200527477"
      ]
     },
     "execution_count": 13,
     "metadata": {},
     "output_type": "execute_result"
    }
   ],
   "source": [
    "get_hpc(df.E_MeV_u.iloc[-1], df.a0_m.iloc[-1], simulation_setup)"
   ]
  },
  {
   "cell_type": "code",
   "execution_count": null,
   "metadata": {},
   "outputs": [],
   "source": [
    "df['HPC'] = df.apply(lambda df_tmp : get_hpc(df_tmp.E_MeV_u, df_tmp.a0_m, simulation_setup), axis=1)"
   ]
  },
  {
   "cell_type": "code",
   "execution_count": null,
   "metadata": {},
   "outputs": [],
   "source": [
    "df['let_keV_um'] = df.apply(lambda df_tmp : let_keV_um(df_tmp.E_MeV_u, simulation_setup), axis=1)"
   ]
  },
  {
   "cell_type": "code",
   "execution_count": null,
   "metadata": {},
   "outputs": [
    {
     "data": {
      "text/html": [
       "<div>\n",
       "<style scoped>\n",
       "    .dataframe tbody tr th:only-of-type {\n",
       "        vertical-align: middle;\n",
       "    }\n",
       "\n",
       "    .dataframe tbody tr th {\n",
       "        vertical-align: top;\n",
       "    }\n",
       "\n",
       "    .dataframe thead th {\n",
       "        text-align: right;\n",
       "    }\n",
       "</style>\n",
       "<table border=\"1\" class=\"dataframe\">\n",
       "  <thead>\n",
       "    <tr style=\"text-align: right;\">\n",
       "      <th></th>\n",
       "      <th>E_MeV_u</th>\n",
       "      <th>a0_m</th>\n",
       "      <th>HPC</th>\n",
       "      <th>let_keV_um</th>\n",
       "    </tr>\n",
       "  </thead>\n",
       "  <tbody>\n",
       "    <tr>\n",
       "      <th>0</th>\n",
       "      <td>30.0</td>\n",
       "      <td>9.500000e-08</td>\n",
       "      <td>1.209785</td>\n",
       "      <td>5.882310</td>\n",
       "    </tr>\n",
       "    <tr>\n",
       "      <th>1</th>\n",
       "      <td>30.0</td>\n",
       "      <td>5.000000e-08</td>\n",
       "      <td>1.179428</td>\n",
       "      <td>5.882310</td>\n",
       "    </tr>\n",
       "    <tr>\n",
       "      <th>2</th>\n",
       "      <td>30.0</td>\n",
       "      <td>1.500000e-07</td>\n",
       "      <td>1.217488</td>\n",
       "      <td>5.882310</td>\n",
       "    </tr>\n",
       "    <tr>\n",
       "      <th>3</th>\n",
       "      <td>40.0</td>\n",
       "      <td>9.500000e-08</td>\n",
       "      <td>1.215277</td>\n",
       "      <td>4.687187</td>\n",
       "    </tr>\n",
       "    <tr>\n",
       "      <th>4</th>\n",
       "      <td>40.0</td>\n",
       "      <td>5.000000e-08</td>\n",
       "      <td>1.195776</td>\n",
       "      <td>4.687187</td>\n",
       "    </tr>\n",
       "    <tr>\n",
       "      <th>5</th>\n",
       "      <td>40.0</td>\n",
       "      <td>1.500000e-07</td>\n",
       "      <td>1.220096</td>\n",
       "      <td>4.687187</td>\n",
       "    </tr>\n",
       "    <tr>\n",
       "      <th>6</th>\n",
       "      <td>50.0</td>\n",
       "      <td>9.500000e-08</td>\n",
       "      <td>1.217801</td>\n",
       "      <td>3.936722</td>\n",
       "    </tr>\n",
       "    <tr>\n",
       "      <th>7</th>\n",
       "      <td>50.0</td>\n",
       "      <td>5.000000e-08</td>\n",
       "      <td>1.203642</td>\n",
       "      <td>3.936722</td>\n",
       "    </tr>\n",
       "    <tr>\n",
       "      <th>8</th>\n",
       "      <td>50.0</td>\n",
       "      <td>1.500000e-07</td>\n",
       "      <td>1.221274</td>\n",
       "      <td>3.936722</td>\n",
       "    </tr>\n",
       "    <tr>\n",
       "      <th>9</th>\n",
       "      <td>60.0</td>\n",
       "      <td>9.500000e-08</td>\n",
       "      <td>1.219240</td>\n",
       "      <td>3.418019</td>\n",
       "    </tr>\n",
       "    <tr>\n",
       "      <th>10</th>\n",
       "      <td>60.0</td>\n",
       "      <td>5.000000e-08</td>\n",
       "      <td>1.208210</td>\n",
       "      <td>3.418019</td>\n",
       "    </tr>\n",
       "    <tr>\n",
       "      <th>11</th>\n",
       "      <td>60.0</td>\n",
       "      <td>1.500000e-07</td>\n",
       "      <td>1.221940</td>\n",
       "      <td>3.418019</td>\n",
       "    </tr>\n",
       "  </tbody>\n",
       "</table>\n",
       "</div>"
      ],
      "text/plain": [
       "    E_MeV_u          a0_m       HPC  let_keV_um\n",
       "0      30.0  9.500000e-08  1.209785    5.882310\n",
       "1      30.0  5.000000e-08  1.179428    5.882310\n",
       "2      30.0  1.500000e-07  1.217488    5.882310\n",
       "3      40.0  9.500000e-08  1.215277    4.687187\n",
       "4      40.0  5.000000e-08  1.195776    4.687187\n",
       "5      40.0  1.500000e-07  1.220096    4.687187\n",
       "6      50.0  9.500000e-08  1.217801    3.936722\n",
       "7      50.0  5.000000e-08  1.203642    3.936722\n",
       "8      50.0  1.500000e-07  1.221274    3.936722\n",
       "9      60.0  9.500000e-08  1.219240    3.418019\n",
       "10     60.0  5.000000e-08  1.208210    3.418019\n",
       "11     60.0  1.500000e-07  1.221940    3.418019"
      ]
     },
     "execution_count": 16,
     "metadata": {},
     "output_type": "execute_result"
    }
   ],
   "source": [
    "df"
   ]
  },
  {
   "cell_type": "code",
   "execution_count": null,
   "metadata": {},
   "outputs": [
    {
     "data": {
      "text/plain": [
       "<seaborn.axisgrid.FacetGrid at 0x7fca003e6310>"
      ]
     },
     "execution_count": 18,
     "metadata": {},
     "output_type": "execute_result"
    },
    {
     "data": {
      "image/png": "[encoded data removed]",
      "text/plain": [
       "<Figure size 546.6x360 with 1 Axes>"
      ]
     },
     "metadata": {},
     "output_type": "display_data"
    }
   ],
   "source": [
    "sns.relplot(x='let_keV_um', y='HPC', hue='a0_m', data=df)"
   ]
  },
  {
   "cell_type": "code",
   "execution_count": null,
   "metadata": {},
   "outputs": [],
   "source": []
  }
 ],
 "metadata": {
  "interpreter": {
   "hash": "5b36f22c9020e148f5870eac95e280f14af9cdb7c612e64a040e97878e9e7bbe"
  },
  "kernelspec": {
   "display_name": "Python 3.8.10 64-bit ('.env': venv)",
   "language": "python",
   "name": "python3"
  },
  "language_info": {
   "codemirror_mode": {
    "name": "ipython",
    "version": 3
   },
   "file_extension": ".py",
   "mimetype": "text/x-python",
   "name": "python",
   "nbconvert_exporter": "python",
   "pygments_lexer": "ipython3",
   "version": "3.8.10"
  },
  "orig_nbformat": 4
 },
 "nbformat": 4,
 "nbformat_minor": 2
}
